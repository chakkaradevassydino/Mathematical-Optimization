{
 "cells": [
  {
   "cell_type": "code",
   "execution_count": 13,
   "id": "bfadbee3-37c6-4ab2-a091-b2812cf6680e",
   "metadata": {},
   "outputs": [],
   "source": [
    "#STEP  1 IMPORTING GUROBIPY PACKAGE\n",
    "from gurobipy import*\n",
    "#STEP 2 CREATE AN OPTIMIZATION MODEL\n",
    "milp_model=Model(\"milp\")\n",
    "#ADD DECISION VARIABLES\n",
    "x = milp_model.addVar(vtype = GRB.BINARY,name = \"X\")\n",
    "y = milp_model.addVar(vtype = GRB.CONTINUOUS,lb = 0,name = \"y\")\n",
    "z = milp_model.addVar(vtype = GRB.INTEGER, lb=0,name = \"z\")\n"
   ]
  },
  {
   "cell_type": "code",
   "execution_count": 19,
   "id": "2119d302-8f81-4f37-8aa1-2a4010e10f73",
   "metadata": {},
   "outputs": [],
   "source": [
    "#step 4 define objective function\n",
    "obj_fn = 2*x + y + 3*z\n",
    "milp_model.setObjective(obj_fn,GRB.MAXIMIZE)\n"
   ]
  },
  {
   "cell_type": "code",
   "execution_count": 21,
   "id": "224de989-9683-4dc8-a345-327d39f853ee",
   "metadata": {},
   "outputs": [],
   "source": [
    "#ADDING THE CONSTRAINTS\n",
    "c1 = milp_model.addConstr(x + 2*y + z <= 4,\"c1\")\n",
    "c2 = milp_model.addConstr(2*z + y <= 5,\"c2\")\n",
    "c3= milp_model.addConstr(x+y >= 1,\"c3\")"
   ]
  },
  {
   "cell_type": "code",
   "execution_count": 23,
   "id": "9913f9bf-cced-4e10-9a45-a7f27348110e",
   "metadata": {},
   "outputs": [
    {
     "name": "stdout",
     "output_type": "stream",
     "text": [
      "Gurobi Optimizer version 12.0.0 build v12.0.0rc1 (win64 - Windows 11.0 (26100.2))\n",
      "\n",
      "CPU model: 11th Gen Intel(R) Core(TM) i5-1135G7 @ 2.40GHz, instruction set [SSE2|AVX|AVX2|AVX512]\n",
      "Thread count: 4 physical cores, 8 logical processors, using up to 8 threads\n",
      "\n",
      "Optimize a model with 3 rows, 3 columns and 7 nonzeros\n",
      "Model fingerprint: 0x8a1c7e4e\n",
      "Variable types: 1 continuous, 2 integer (1 binary)\n",
      "Coefficient statistics:\n",
      "  Matrix range     [1e+00, 2e+00]\n",
      "  Objective range  [1e+00, 3e+00]\n",
      "  Bounds range     [1e+00, 1e+00]\n",
      "  RHS range        [1e+00, 5e+00]\n",
      "Found heuristic solution: objective 3.5000000\n",
      "Presolve removed 3 rows and 3 columns\n",
      "Presolve time: 0.01s\n",
      "Presolve: All rows and columns removed\n",
      "\n",
      "Explored 0 nodes (0 simplex iterations) in 0.03 seconds (0.00 work units)\n",
      "Thread count was 1 (of 8 available processors)\n",
      "\n",
      "Solution count 2: 8.5 3.5 \n",
      "\n",
      "Optimal solution found (tolerance 1.00e-04)\n",
      "Best objective 8.500000000000e+00, best bound 8.500000000000e+00, gap 0.0000%\n"
     ]
    }
   ],
   "source": [
    "#step 6 :Solve the model\n",
    "milp_model.optimize()"
   ]
  },
  {
   "cell_type": "code",
   "execution_count": 25,
   "id": "3d49b870-b1c1-4e5f-9f91-5a9835a723dc",
   "metadata": {},
   "outputs": [
    {
     "name": "stdout",
     "output_type": "stream",
     "text": [
      "Objective Function Value:8.50\n",
      "X:1\n",
      "y:0.5\n",
      "z:2\n"
     ]
    }
   ],
   "source": [
    "print('Objective Function Value:%.2f' % milp_model.objVal)\n",
    "for v in milp_model.getVars():\n",
    "    print('%s:%g'%(v.varNAME,v.x))"
   ]
  },
  {
   "cell_type": "code",
   "execution_count": null,
   "id": "5df20cc6-7320-45ef-a8e1-1e2b9b2ce66b",
   "metadata": {},
   "outputs": [],
   "source": []
  }
 ],
 "metadata": {
  "kernelspec": {
   "display_name": "Python 3 (ipykernel)",
   "language": "python",
   "name": "python3"
  },
  "language_info": {
   "codemirror_mode": {
    "name": "ipython",
    "version": 3
   },
   "file_extension": ".py",
   "mimetype": "text/x-python",
   "name": "python",
   "nbconvert_exporter": "python",
   "pygments_lexer": "ipython3",
   "version": "3.12.4"
  }
 },
 "nbformat": 4,
 "nbformat_minor": 5
}
