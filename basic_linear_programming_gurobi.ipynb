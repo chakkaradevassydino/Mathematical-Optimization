{
 "cells": [
  {
   "cell_type": "code",
   "execution_count": 8,
   "id": "eeccaa49-b722-4c75-bba9-147257fc48ea",
   "metadata": {},
   "outputs": [
    {
     "name": "stdout",
     "output_type": "stream",
     "text": [
      "Set parameter Username\n",
      "Set parameter LicenseID to value 2604966\n",
      "Academic license - for non-commercial use only - expires 2026-01-03\n"
     ]
    }
   ],
   "source": [
    "#basic linear model\n",
    "from gurobipy import*\n",
    "opt_mod = Model(name = \"linear program\")\n"
   ]
  },
  {
   "cell_type": "code",
   "execution_count": 10,
   "id": "ea289f58-5e55-43dd-868c-be4fbed9681b",
   "metadata": {},
   "outputs": [],
   "source": [
    "x = opt_mod.addVar(name = 'X' , vtype = GRB.CONTINUOUS, lb = 0)\n",
    "y = opt_mod.addVar(name = 'y' , vtype = GRB.CONTINUOUS, lb = 0)    #step 3 add decision variables "
   ]
  },
  {
   "cell_type": "code",
   "execution_count": 14,
   "id": "6e014da6-f324-4298-bdb6-1f9ee812dadb",
   "metadata": {},
   "outputs": [],
   "source": [
    "obj_fn = 5*x + 4*y\n",
    "opt_mod.setObjective(obj_fn,GRB.MINIMIZE)  #DEFINE OUR OBJECTIVE FUNCTION\n"
   ]
  },
  {
   "cell_type": "code",
   "execution_count": 16,
   "id": "836ec2bf-6685-48d3-aba7-11b83b686997",
   "metadata": {},
   "outputs": [],
   "source": [
    "#ADDING THE CONSTARINTS\n",
    "c1 = opt_mod.addConstr( x + y >= 8 , name = 'c1')\n",
    "c2 = opt_mod.addConstr( 2*x + y >= 10,name = 'c2')\n",
    "c3 = opt_mod.addConstr( x + 4*y >= 11,name = 'c3')"
   ]
  },
  {
   "cell_type": "code",
   "execution_count": 20,
   "id": "d22561e2-1376-47ae-b26c-987229329732",
   "metadata": {},
   "outputs": [
    {
     "name": "stdout",
     "output_type": "stream",
     "text": [
      "Gurobi Optimizer version 12.0.0 build v12.0.0rc1 (win64 - Windows 11.0 (26100.2))\n",
      "\n",
      "CPU model: 11th Gen Intel(R) Core(TM) i5-1135G7 @ 2.40GHz, instruction set [SSE2|AVX|AVX2|AVX512]\n",
      "Thread count: 4 physical cores, 8 logical processors, using up to 8 threads\n",
      "\n",
      "Optimize a model with 3 rows, 2 columns and 6 nonzeros\n",
      "Model fingerprint: 0x6c7cdc94\n",
      "Coefficient statistics:\n",
      "  Matrix range     [1e+00, 4e+00]\n",
      "  Objective range  [4e+00, 5e+00]\n",
      "  Bounds range     [0e+00, 0e+00]\n",
      "  RHS range        [8e+00, 1e+01]\n",
      "Presolve time: 0.01s\n",
      "Presolved: 3 rows, 2 columns, 6 nonzeros\n",
      "\n",
      "Iteration    Objective       Primal Inf.    Dual Inf.      Time\n",
      "       0    0.0000000e+00   1.850000e+01   0.000000e+00      0s\n",
      "       2    3.4000000e+01   0.000000e+00   0.000000e+00      0s\n",
      "\n",
      "Solved in 2 iterations and 0.02 seconds (0.00 work units)\n",
      "Optimal objective  3.400000000e+01\n"
     ]
    }
   ],
   "source": [
    "opt_mod.optimize() #solve the model \n",
    "opt_mod.write(\"linear_model.lp\") #output the lp file of the model "
   ]
  },
  {
   "cell_type": "code",
   "execution_count": 24,
   "id": "4ffebbe7-e446-44e7-ab4c-ddcb29245cb7",
   "metadata": {},
   "outputs": [
    {
     "name": "stdout",
     "output_type": "stream",
     "text": [
      "objective Function value:34.000000\n",
      "X:2\n",
      "y:6\n"
     ]
    }
   ],
   "source": [
    "print('objective Function value:%f'% opt_mod.objVal)   #get values of the decision variables\n",
    "for v in opt_mod.getVars():\n",
    "    print('%s:%G' % (v.varName, v.x))"
   ]
  },
  {
   "cell_type": "code",
   "execution_count": null,
   "id": "3197aa65-d663-42a8-9df6-45cae98a9588",
   "metadata": {},
   "outputs": [],
   "source": []
  }
 ],
 "metadata": {
  "kernelspec": {
   "display_name": "Python 3 (ipykernel)",
   "language": "python",
   "name": "python3"
  },
  "language_info": {
   "codemirror_mode": {
    "name": "ipython",
    "version": 3
   },
   "file_extension": ".py",
   "mimetype": "text/x-python",
   "name": "python",
   "nbconvert_exporter": "python",
   "pygments_lexer": "ipython3",
   "version": "3.12.4"
  }
 },
 "nbformat": 4,
 "nbformat_minor": 5
}
